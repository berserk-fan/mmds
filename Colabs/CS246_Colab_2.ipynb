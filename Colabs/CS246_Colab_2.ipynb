{
  "nbformat": 4,
  "nbformat_minor": 0,
  "metadata": {
    "colab": {
      "name": "CS246 - Colab 2.ipynb",
      "provenance": [],
      "collapsed_sections": [],
      "toc_visible": true,
      "include_colab_link": true
    },
    "kernelspec": {
      "name": "python3",
      "display_name": "Python 3"
    }
  },
  "cells": [
    {
      "cell_type": "markdown",
      "metadata": {
        "id": "view-in-github",
        "colab_type": "text"
      },
      "source": [
        "<a href=\"https://colab.research.google.com/github/mygoalistokillbill/mmds/blob/main/Colabs/CS246_Colab_2.ipynb\" target=\"_parent\"><img src=\"https://colab.research.google.com/assets/colab-badge.svg\" alt=\"Open In Colab\"/></a>"
      ]
    },
    {
      "cell_type": "markdown",
      "metadata": {
        "id": "kPt5q27L5557"
      },
      "source": [
        "# CS246 - Colab 2\n",
        "## Frequent Pattern Mining in Spark"
      ]
    },
    {
      "cell_type": "markdown",
      "metadata": {
        "id": "p0-YhEpP_Ds-"
      },
      "source": [
        "### Setup"
      ]
    },
    {
      "cell_type": "markdown",
      "metadata": {
        "id": "Zsj5WYpR9QId"
      },
      "source": [
        "Let's setup Spark on your Colab environment.  Run the cell below!"
      ]
    },
    {
      "cell_type": "code",
      "metadata": {
        "id": "k-qHai2252mI",
        "colab": {
          "base_uri": "https://localhost:8080/"
        },
        "outputId": "c9340305-b789-4970-de72-1c04a2b4c2f4"
      },
      "source": [
        "!pip install pyspark\n",
        "!pip install -U -q PyDrive\n",
        "!apt install openjdk-8-jdk-headless -qq\n",
        "import os\n",
        "os.environ[\"JAVA_HOME\"] = \"/usr/lib/jvm/java-8-openjdk-amd64\""
      ],
      "execution_count": 1,
      "outputs": [
        {
          "output_type": "stream",
          "text": [
            "Collecting pyspark\n",
            "  Downloading pyspark-3.1.2.tar.gz (212.4 MB)\n",
            "\u001b[K     |████████████████████████████████| 212.4 MB 69 kB/s \n",
            "\u001b[?25hCollecting py4j==0.10.9\n",
            "  Downloading py4j-0.10.9-py2.py3-none-any.whl (198 kB)\n",
            "\u001b[K     |████████████████████████████████| 198 kB 54.7 MB/s \n",
            "\u001b[?25hBuilding wheels for collected packages: pyspark\n",
            "  Building wheel for pyspark (setup.py) ... \u001b[?25l\u001b[?25hdone\n",
            "  Created wheel for pyspark: filename=pyspark-3.1.2-py2.py3-none-any.whl size=212880768 sha256=35a0db445c6daf747cd09ce51d954b0ab7ff86b5d6af7815f7ea59afa4f3e723\n",
            "  Stored in directory: /root/.cache/pip/wheels/a5/0a/c1/9561f6fecb759579a7d863dcd846daaa95f598744e71b02c77\n",
            "Successfully built pyspark\n",
            "Installing collected packages: py4j, pyspark\n",
            "Successfully installed py4j-0.10.9 pyspark-3.1.2\n",
            "The following package was automatically installed and is no longer required:\n",
            "  libnvidia-common-460\n",
            "Use 'apt autoremove' to remove it.\n",
            "The following additional packages will be installed:\n",
            "  openjdk-8-jre-headless\n",
            "Suggested packages:\n",
            "  openjdk-8-demo openjdk-8-source libnss-mdns fonts-dejavu-extra\n",
            "  fonts-ipafont-gothic fonts-ipafont-mincho fonts-wqy-microhei\n",
            "  fonts-wqy-zenhei fonts-indic\n",
            "The following NEW packages will be installed:\n",
            "  openjdk-8-jdk-headless openjdk-8-jre-headless\n",
            "0 upgraded, 2 newly installed, 0 to remove and 40 not upgraded.\n",
            "Need to get 36.5 MB of archives.\n",
            "After this operation, 143 MB of additional disk space will be used.\n",
            "Selecting previously unselected package openjdk-8-jre-headless:amd64.\n",
            "(Reading database ... 148486 files and directories currently installed.)\n",
            "Preparing to unpack .../openjdk-8-jre-headless_8u292-b10-0ubuntu1~18.04_amd64.deb ...\n",
            "Unpacking openjdk-8-jre-headless:amd64 (8u292-b10-0ubuntu1~18.04) ...\n",
            "Selecting previously unselected package openjdk-8-jdk-headless:amd64.\n",
            "Preparing to unpack .../openjdk-8-jdk-headless_8u292-b10-0ubuntu1~18.04_amd64.deb ...\n",
            "Unpacking openjdk-8-jdk-headless:amd64 (8u292-b10-0ubuntu1~18.04) ...\n",
            "Setting up openjdk-8-jre-headless:amd64 (8u292-b10-0ubuntu1~18.04) ...\n",
            "update-alternatives: using /usr/lib/jvm/java-8-openjdk-amd64/jre/bin/orbd to provide /usr/bin/orbd (orbd) in auto mode\n",
            "update-alternatives: using /usr/lib/jvm/java-8-openjdk-amd64/jre/bin/servertool to provide /usr/bin/servertool (servertool) in auto mode\n",
            "update-alternatives: using /usr/lib/jvm/java-8-openjdk-amd64/jre/bin/tnameserv to provide /usr/bin/tnameserv (tnameserv) in auto mode\n",
            "Setting up openjdk-8-jdk-headless:amd64 (8u292-b10-0ubuntu1~18.04) ...\n",
            "update-alternatives: using /usr/lib/jvm/java-8-openjdk-amd64/bin/idlj to provide /usr/bin/idlj (idlj) in auto mode\n",
            "update-alternatives: using /usr/lib/jvm/java-8-openjdk-amd64/bin/wsimport to provide /usr/bin/wsimport (wsimport) in auto mode\n",
            "update-alternatives: using /usr/lib/jvm/java-8-openjdk-amd64/bin/jsadebugd to provide /usr/bin/jsadebugd (jsadebugd) in auto mode\n",
            "update-alternatives: using /usr/lib/jvm/java-8-openjdk-amd64/bin/native2ascii to provide /usr/bin/native2ascii (native2ascii) in auto mode\n",
            "update-alternatives: using /usr/lib/jvm/java-8-openjdk-amd64/bin/javah to provide /usr/bin/javah (javah) in auto mode\n",
            "update-alternatives: using /usr/lib/jvm/java-8-openjdk-amd64/bin/hsdb to provide /usr/bin/hsdb (hsdb) in auto mode\n",
            "update-alternatives: using /usr/lib/jvm/java-8-openjdk-amd64/bin/clhsdb to provide /usr/bin/clhsdb (clhsdb) in auto mode\n",
            "update-alternatives: using /usr/lib/jvm/java-8-openjdk-amd64/bin/extcheck to provide /usr/bin/extcheck (extcheck) in auto mode\n",
            "update-alternatives: using /usr/lib/jvm/java-8-openjdk-amd64/bin/schemagen to provide /usr/bin/schemagen (schemagen) in auto mode\n",
            "update-alternatives: using /usr/lib/jvm/java-8-openjdk-amd64/bin/xjc to provide /usr/bin/xjc (xjc) in auto mode\n",
            "update-alternatives: using /usr/lib/jvm/java-8-openjdk-amd64/bin/jhat to provide /usr/bin/jhat (jhat) in auto mode\n",
            "update-alternatives: using /usr/lib/jvm/java-8-openjdk-amd64/bin/wsgen to provide /usr/bin/wsgen (wsgen) in auto mode\n"
          ],
          "name": "stdout"
        }
      ]
    },
    {
      "cell_type": "markdown",
      "metadata": {
        "id": "-CJ71AKe91eh"
      },
      "source": [
        "Now we authenticate a Google Drive client to download the file we will be processing in our Spark job.\n",
        "\n",
        "**Make sure to follow the interactive instructions.**"
      ]
    },
    {
      "cell_type": "code",
      "metadata": {
        "id": "5K93ABEy9Zlo"
      },
      "source": [
        "from pydrive.auth import GoogleAuth\n",
        "from pydrive.drive import GoogleDrive\n",
        "from google.colab import auth\n",
        "from oauth2client.client import GoogleCredentials\n",
        "\n",
        "# Authenticate and create the PyDrive client\n",
        "auth.authenticate_user()\n",
        "gauth = GoogleAuth()\n",
        "gauth.credentials = GoogleCredentials.get_application_default()\n",
        "drive = GoogleDrive(gauth)"
      ],
      "execution_count": 2,
      "outputs": []
    },
    {
      "cell_type": "code",
      "metadata": {
        "id": "0orRvrc1-545"
      },
      "source": [
        "id='1dhi1F78ssqR8gE6U-AgB80ZW7V_9snX4'\n",
        "downloaded = drive.CreateFile({'id': id})\n",
        "downloaded.GetContentFile('products.csv')\n",
        "\n",
        "id='1KZBNEaIyMTcsRV817us6uLZgm-Mii8oU'\n",
        "downloaded = drive.CreateFile({'id': id})\n",
        "downloaded.GetContentFile('order_products__train.csv')"
      ],
      "execution_count": 3,
      "outputs": []
    },
    {
      "cell_type": "markdown",
      "metadata": {
        "id": "qwtlO4_m_LbQ"
      },
      "source": [
        "If you executed the cells above, you should be able to see the dataset we will need for this Colab under the \"Files\" tab on the left panel."
      ]
    },
    {
      "cell_type": "code",
      "metadata": {
        "id": "twk-K-jilWK7"
      },
      "source": [
        "import pandas as pd\n",
        "import numpy as np\n",
        "import matplotlib.pyplot as plt\n",
        "%matplotlib inline\n",
        "\n",
        "import pyspark\n",
        "from pyspark.sql import *\n",
        "from pyspark.sql.functions import *\n",
        "from pyspark import SparkContext, SparkConf"
      ],
      "execution_count": 4,
      "outputs": []
    },
    {
      "cell_type": "markdown",
      "metadata": {
        "id": "dr-8fK-1lmY0"
      },
      "source": [
        "Let's initialize the Spark context."
      ]
    },
    {
      "cell_type": "code",
      "metadata": {
        "id": "UOwtm2l7lePt"
      },
      "source": [
        "# create the session\n",
        "conf = SparkConf().set(\"spark.ui.port\", \"4050\")\n",
        "\n",
        "# create the context\n",
        "sc = pyspark.SparkContext(conf=conf)\n",
        "spark = SparkSession.builder.getOrCreate()"
      ],
      "execution_count": 5,
      "outputs": []
    },
    {
      "cell_type": "markdown",
      "metadata": {
        "id": "s-LpyCLzlul6"
      },
      "source": [
        "You can easily check the current version and get the link of the web interface. In the Spark UI, you can monitor the progress of your job and debug the performance bottlenecks (if your Colab is running with a **local runtime**)."
      ]
    },
    {
      "cell_type": "code",
      "metadata": {
        "id": "0g87iz4klwYJ",
        "outputId": "b93c3ecb-2241-4d21-c09b-39911b7d6dac",
        "colab": {
          "base_uri": "https://localhost:8080/",
          "height": 222
        }
      },
      "source": [
        "spark"
      ],
      "execution_count": 6,
      "outputs": [
        {
          "output_type": "execute_result",
          "data": {
            "text/html": [
              "\n",
              "            <div>\n",
              "                <p><b>SparkSession - in-memory</b></p>\n",
              "                \n",
              "        <div>\n",
              "            <p><b>SparkContext</b></p>\n",
              "\n",
              "            <p><a href=\"http://0b0cbac1c074:4050\">Spark UI</a></p>\n",
              "\n",
              "            <dl>\n",
              "              <dt>Version</dt>\n",
              "                <dd><code>v3.1.2</code></dd>\n",
              "              <dt>Master</dt>\n",
              "                <dd><code>local[*]</code></dd>\n",
              "              <dt>AppName</dt>\n",
              "                <dd><code>pyspark-shell</code></dd>\n",
              "            </dl>\n",
              "        </div>\n",
              "        \n",
              "            </div>\n",
              "        "
            ],
            "text/plain": [
              "<pyspark.sql.session.SparkSession at 0x7f25fbdab6d0>"
            ]
          },
          "metadata": {
            "tags": []
          },
          "execution_count": 6
        }
      ]
    },
    {
      "cell_type": "markdown",
      "metadata": {
        "id": "Vdwc4xKPl3Jv"
      },
      "source": [
        "If you are running this Colab on the Google hosted runtime, the cell below will create a *ngrok* tunnel which will allow you to still check the Spark UI."
      ]
    },
    {
      "cell_type": "code",
      "metadata": {
        "id": "qephEB4Tl14J",
        "outputId": "2696bd23-4df2-4e47-9005-0964efcc425b",
        "colab": {
          "base_uri": "https://localhost:8080/"
        }
      },
      "source": [
        "!wget https://bin.equinox.io/c/4VmDzA7iaHb/ngrok-stable-linux-amd64.zip\n",
        "!unzip ngrok-stable-linux-amd64.zip\n",
        "get_ipython().system_raw('./ngrok http 4050 &')\n",
        "!curl -s http://localhost:4040/api/tunnels | python3 -c \\\n",
        "    \"import sys, json; print(json.load(sys.stdin)['tunnels'][0]['public_url'])\""
      ],
      "execution_count": 7,
      "outputs": [
        {
          "output_type": "stream",
          "text": [
            "--2021-08-17 09:23:51--  https://bin.equinox.io/c/4VmDzA7iaHb/ngrok-stable-linux-amd64.zip\n",
            "Resolving bin.equinox.io (bin.equinox.io)... 52.44.51.219, 52.202.35.83, 34.226.109.249, ...\n",
            "Connecting to bin.equinox.io (bin.equinox.io)|52.44.51.219|:443... connected.\n",
            "HTTP request sent, awaiting response... 200 OK\n",
            "Length: 13832437 (13M) [application/octet-stream]\n",
            "Saving to: ‘ngrok-stable-linux-amd64.zip’\n",
            "\n",
            "ngrok-stable-linux- 100%[===================>]  13.19M  16.7MB/s    in 0.8s    \n",
            "\n",
            "2021-08-17 09:23:52 (16.7 MB/s) - ‘ngrok-stable-linux-amd64.zip’ saved [13832437/13832437]\n",
            "\n",
            "Archive:  ngrok-stable-linux-amd64.zip\n",
            "  inflating: ngrok                   \n",
            "Traceback (most recent call last):\n",
            "  File \"<string>\", line 1, in <module>\n",
            "IndexError: list index out of range\n"
          ],
          "name": "stdout"
        }
      ]
    },
    {
      "cell_type": "markdown",
      "metadata": {
        "id": "CRaF2A_j_nC7"
      },
      "source": [
        "### Your task"
      ]
    },
    {
      "cell_type": "markdown",
      "metadata": {
        "id": "ebLNUxP0_8x3"
      },
      "source": [
        "If you run successfully the setup stage, you are ready to work with the **3 Million Instacart Orders** dataset. In case you want to read more about it, check the [official Instacart blog post](https://tech.instacart.com/3-million-instacart-orders-open-sourced-d40d29ead6f2) about it, a concise [schema description](https://gist.github.com/jeremystan/c3b39d947d9b88b3ccff3147dbcf6c6b) of the dataset, and the [download page](https://www.instacart.com/datasets/grocery-shopping-2017).\n",
        "\n",
        "In this Colab, we will be working only with a small training dataset (~131K orders) to perform fast Frequent Pattern Mining with the FP-Growth algorithm."
      ]
    },
    {
      "cell_type": "code",
      "metadata": {
        "id": "xu-e7Ph2_ruG"
      },
      "source": [
        "products = spark.read.csv('products.csv', header=True, inferSchema=True)\n",
        "orders = spark.read.csv('order_products__train.csv', header=True, inferSchema=True)"
      ],
      "execution_count": 8,
      "outputs": []
    },
    {
      "cell_type": "code",
      "metadata": {
        "id": "hhxZZRT9syUO",
        "colab": {
          "base_uri": "https://localhost:8080/"
        },
        "outputId": "60503868-2c55-4f7b-8254-9004e5d7dbf6"
      },
      "source": [
        "products.printSchema()"
      ],
      "execution_count": 9,
      "outputs": [
        {
          "output_type": "stream",
          "text": [
            "root\n",
            " |-- product_id: integer (nullable = true)\n",
            " |-- product_name: string (nullable = true)\n",
            " |-- aisle_id: string (nullable = true)\n",
            " |-- department_id: string (nullable = true)\n",
            "\n"
          ],
          "name": "stdout"
        }
      ]
    },
    {
      "cell_type": "code",
      "metadata": {
        "id": "8VeRYRz2s1pm",
        "colab": {
          "base_uri": "https://localhost:8080/"
        },
        "outputId": "d333c349-98ac-406a-a8b8-5efd5a9cc81f"
      },
      "source": [
        "orders.printSchema()"
      ],
      "execution_count": 10,
      "outputs": [
        {
          "output_type": "stream",
          "text": [
            "root\n",
            " |-- order_id: integer (nullable = true)\n",
            " |-- product_id: integer (nullable = true)\n",
            " |-- add_to_cart_order: integer (nullable = true)\n",
            " |-- reordered: integer (nullable = true)\n",
            "\n"
          ],
          "name": "stdout"
        }
      ]
    },
    {
      "cell_type": "markdown",
      "metadata": {
        "id": "h5muD_Io59CG"
      },
      "source": [
        "Use the Spark Dataframe API to join 'products' and 'orders', so that you will be able to see the product names in each transaction (and not only their ids).  Then, group by the orders by 'order_id' to obtain one row per basket (i.e., set of products purchased together by one customer). "
      ]
    },
    {
      "cell_type": "code",
      "metadata": {
        "id": "zRH4o4p7s7V6",
        "outputId": "45743238-3083-4c94-8222-30164837c886",
        "colab": {
          "base_uri": "https://localhost:8080/"
        }
      },
      "source": [
        "# YOUR CODE HERE\n",
        "orders_with_product_name = orders.join(products, orders.product_id == products.product_id)\n",
        "orders_with_product_name.printSchema()\n",
        "buskets=orders_with_product_name.groupBy('order_id').agg(collect_list(\"product_name\").alias(\"names\"))\n",
        "buskets.printSchema()"
      ],
      "execution_count": 21,
      "outputs": [
        {
          "output_type": "stream",
          "text": [
            "root\n",
            " |-- order_id: integer (nullable = true)\n",
            " |-- product_id: integer (nullable = true)\n",
            " |-- add_to_cart_order: integer (nullable = true)\n",
            " |-- reordered: integer (nullable = true)\n",
            " |-- product_id: integer (nullable = true)\n",
            " |-- product_name: string (nullable = true)\n",
            " |-- aisle_id: string (nullable = true)\n",
            " |-- department_id: string (nullable = true)\n",
            "\n",
            "root\n",
            " |-- order_id: integer (nullable = true)\n",
            " |-- names: array (nullable = false)\n",
            " |    |-- element: string (containsNull = false)\n",
            "\n"
          ],
          "name": "stdout"
        }
      ]
    },
    {
      "cell_type": "markdown",
      "metadata": {
        "id": "EfHoTLAg6qnM"
      },
      "source": [
        "In this Colab we will explore [MLlib](https://spark.apache.org/mllib/), Apache Spark's scalable machine learning library. Specifically, you can use its implementation of the [FP-Growth](https://spark.apache.org/docs/latest/ml-frequent-pattern-mining.html#fp-growth) algorithm to perform efficiently Frequent Pattern Mining in Spark.\n",
        "Use the Python example in the documentation, and train a model with \n",
        "\n",
        "```minSupport=0.01``` and ```minConfidence=0.5```\n",
        "\n"
      ]
    },
    {
      "cell_type": "code",
      "metadata": {
        "id": "boWgxXNns089",
        "outputId": "b3a19610-3abf-45ba-8a6c-af49b126ff1c",
        "colab": {
          "base_uri": "https://localhost:8080/"
        }
      },
      "source": [
        "# YOUR CODE HERE\n",
        "from pyspark.ml.fpm import FPGrowth\n",
        "\n",
        "fpGrowth = FPGrowth(itemsCol=\"names\", minSupport=0.1, minConfidence=0.5)\n",
        "model = fpGrowth.fit(buskets)"
      ],
      "execution_count": 24,
      "outputs": [
        {
          "output_type": "stream",
          "text": [
            "+--------------------+-----+\n",
            "|               items| freq|\n",
            "+--------------------+-----+\n",
            "|            [Banana]|18726|\n",
            "|[Bag of Organic B...|15480|\n",
            "+--------------------+-----+\n",
            "\n",
            "+----------+----------+----------+----+-------+\n",
            "|antecedent|consequent|confidence|lift|support|\n",
            "+----------+----------+----------+----+-------+\n",
            "+----------+----------+----------+----+-------+\n",
            "\n",
            "+--------+--------------------+----------+\n",
            "|order_id|               names|prediction|\n",
            "+--------+--------------------+----------+\n",
            "|    1342|[Bag of Organic B...|        []|\n",
            "|    1591|[Cracked Wheat, O...|        []|\n",
            "|    4519|[Beet Apple Carro...|        []|\n",
            "|    4935|             [Vodka]|        []|\n",
            "|    6357|[Fresh Mozzarella...|        []|\n",
            "|   10362|[Crinkle Cut Fren...|        []|\n",
            "|   19204|[Lemon Lime Thirs...|        []|\n",
            "|   29601|[Toasted Coconut ...|        []|\n",
            "|   31035|[Bag of Organic B...|        []|\n",
            "|   40011|[Sea Salt Macadam...|        []|\n",
            "|   46266|[Organic Uncured ...|        []|\n",
            "|   51607|[Major Dickason's...|        []|\n",
            "|   58797|[Bag of Organic B...|        []|\n",
            "|   61793|[Raspberries, Nat...|        []|\n",
            "|   67089|[Banana, Organic ...|        []|\n",
            "|   70863|[Bathroom Tissue,...|        []|\n",
            "|   88674|[Unsweetened Almo...|        []|\n",
            "|   91937|[No. 485 Gin, Tra...|        []|\n",
            "|   92317|[Banana, Indian M...|        []|\n",
            "|   99621|[Organic Basil, F...|        []|\n",
            "+--------+--------------------+----------+\n",
            "only showing top 20 rows\n",
            "\n"
          ],
          "name": "stdout"
        }
      ]
    },
    {
      "cell_type": "markdown",
      "metadata": {
        "id": "6kpTVdfD8UiO"
      },
      "source": [
        "Compute how many frequent itemsets and association rules were generated by running FP-growth.\n"
      ]
    },
    {
      "cell_type": "code",
      "metadata": {
        "id": "6KYgQ_URunvA",
        "outputId": "b5a9386f-6d9c-461e-94b9-756845e76005",
        "colab": {
          "base_uri": "https://localhost:8080/"
        }
      },
      "source": [
        "# YOUR CODE HERE\n",
        "# Display frequent itemsets.\n",
        "model.freqItemsets.show()\n",
        "\n",
        "# Display generated association rules.\n",
        "model.associationRules.show()\n",
        "\n",
        "# transform examines the input items against all the association rules and summarize the\n",
        "# consequents as prediction\n",
        "model.transform(buskets).show()"
      ],
      "execution_count": 25,
      "outputs": [
        {
          "output_type": "stream",
          "text": [
            "+--------------------+-----+\n",
            "|               items| freq|\n",
            "+--------------------+-----+\n",
            "|            [Banana]|18726|\n",
            "|[Bag of Organic B...|15480|\n",
            "+--------------------+-----+\n",
            "\n",
            "+----------+----------+----------+----+-------+\n",
            "|antecedent|consequent|confidence|lift|support|\n",
            "+----------+----------+----------+----+-------+\n",
            "+----------+----------+----------+----+-------+\n",
            "\n",
            "+--------+--------------------+----------+\n",
            "|order_id|               names|prediction|\n",
            "+--------+--------------------+----------+\n",
            "|    1342|[Bag of Organic B...|        []|\n",
            "|    1591|[Cracked Wheat, O...|        []|\n",
            "|    4519|[Beet Apple Carro...|        []|\n",
            "|    4935|             [Vodka]|        []|\n",
            "|    6357|[Fresh Mozzarella...|        []|\n",
            "|   10362|[Crinkle Cut Fren...|        []|\n",
            "|   19204|[Lemon Lime Thirs...|        []|\n",
            "|   29601|[Toasted Coconut ...|        []|\n",
            "|   31035|[Bag of Organic B...|        []|\n",
            "|   40011|[Sea Salt Macadam...|        []|\n",
            "|   46266|[Organic Uncured ...|        []|\n",
            "|   51607|[Major Dickason's...|        []|\n",
            "|   58797|[Bag of Organic B...|        []|\n",
            "|   61793|[Raspberries, Nat...|        []|\n",
            "|   67089|[Banana, Organic ...|        []|\n",
            "|   70863|[Bathroom Tissue,...|        []|\n",
            "|   88674|[Unsweetened Almo...|        []|\n",
            "|   91937|[No. 485 Gin, Tra...|        []|\n",
            "|   92317|[Banana, Indian M...|        []|\n",
            "|   99621|[Organic Basil, F...|        []|\n",
            "+--------+--------------------+----------+\n",
            "only showing top 20 rows\n",
            "\n"
          ],
          "name": "stdout"
        }
      ]
    },
    {
      "cell_type": "markdown",
      "metadata": {
        "id": "qT8Lwm1VAPoN"
      },
      "source": [
        "Now retrain the FP-growth model changing only \n",
        "```minsupport=0.001``` \n",
        "and compute how many frequent itemsets and association rules were generated.\n"
      ]
    },
    {
      "cell_type": "code",
      "metadata": {
        "id": "F4LTM9beApYn",
        "outputId": "db5ea90e-1eb2-48ba-e71e-c04519d5d588",
        "colab": {
          "base_uri": "https://localhost:8080/"
        }
      },
      "source": [
        "# YOUR CODE HERE\n",
        "fpGrowth = FPGrowth(itemsCol=\"names\", minSupport=0.001, minConfidence=0.5)\n",
        "model = fpGrowth.fit(buskets)\n",
        "\n",
        "# Display frequent itemsets.\n",
        "model.freqItemsets.show(truncate=False)\n",
        "\n",
        "# Display generated association rules.\n",
        "model.associationRules.show(truncate=False)\n",
        "\n",
        "# transform examines the input items against all the association rules and summarize the\n",
        "# consequents as prediction\n",
        "model.transform(buskets).filter(size(\"prediction\") > 0).show()"
      ],
      "execution_count": 33,
      "outputs": [
        {
          "output_type": "stream",
          "text": [
            "+-----------------------------------------------------------------+-----+\n",
            "|items                                                            |freq |\n",
            "+-----------------------------------------------------------------+-----+\n",
            "|[Organic Tomato Basil Pasta Sauce]                               |772  |\n",
            "|[Organic Tomato Basil Pasta Sauce, Bag of Organic Bananas]       |175  |\n",
            "|[Organic Tomato Basil Pasta Sauce, Organic Baby Spinach]         |144  |\n",
            "|[Organic Tomato Basil Pasta Sauce, Banana]                       |179  |\n",
            "|[Organic Spinach Bunch]                                          |475  |\n",
            "|[Whole Milk Ricotta Cheese]                                      |347  |\n",
            "|[Medium Salsa Roja]                                              |275  |\n",
            "|[Ground Buffalo]                                                 |231  |\n",
            "|[Tonic Water]                                                    |194  |\n",
            "|[Original Coconut Milk Beverage]                                 |173  |\n",
            "|[Low-Fat Strawberry Banana on the Bottom Greek Yogurt]           |152  |\n",
            "|[Organic SprouTofu Super Firm Tofu]                              |137  |\n",
            "|[Banana]                                                         |18726|\n",
            "|[Fruit Punch Sports Drink]                                       |275  |\n",
            "|[Kitchen Cheese Enchilada]                                       |230  |\n",
            "|[Country White Bread]                                            |194  |\n",
            "|[Soft & Smooth Whole Grain White Bread]                          |173  |\n",
            "|[Natural Liquid Laundry Detergent - Blue Eucalyptus and Lavender]|152  |\n",
            "|[Bag of Organic Bananas]                                         |15480|\n",
            "|[Organic Large Grade A Brown Eggs]                               |769  |\n",
            "+-----------------------------------------------------------------+-----+\n",
            "only showing top 20 rows\n",
            "\n",
            "+-----------------------------------------------------------------+------------------------+------------------+------------------+---------------------+\n",
            "|antecedent                                                       |consequent              |confidence        |lift              |support              |\n",
            "+-----------------------------------------------------------------+------------------------+------------------+------------------+---------------------+\n",
            "|[Organic Kiwi, Organic Hass Avocado]                             |[Bag of Organic Bananas]|0.5459770114942529|4.627719489738336 |0.001448071397541327 |\n",
            "|[Organic Raspberries, Organic Hass Avocado, Organic Strawberries]|[Bag of Organic Bananas]|0.5984251968503937|5.072272070642333 |0.0017376856770495927|\n",
            "|[Organic Broccoli, Organic Hass Avocado]                         |[Bag of Organic Bananas]|0.5048231511254019|4.278897986822536 |0.001196564260073623 |\n",
            "|[Organic Unsweetened Almond Milk, Organic Hass Avocado]          |[Bag of Organic Bananas]|0.5141065830721003|4.357584667849303 |0.0012499142589304088|\n",
            "|[Yellow Onions, Strawberries]                                    |[Banana]                |0.5357142857142857|3.7536332219526702|0.0011432142612168373|\n",
            "|[Organic Cucumber, Organic Hass Avocado, Organic Strawberries]   |[Bag of Organic Bananas]|0.546875          |4.635330870478036 |0.0010669999771357147|\n",
            "|[Organic Navel Orange, Organic Hass Avocado]                     |[Bag of Organic Bananas]|0.5283018867924528|4.477904539027839 |0.0014937999679900007|\n",
            "|[Organic Raspberries, Organic Hass Avocado]                      |[Bag of Organic Bananas]|0.521099116781158 |4.416853618458589 |0.004046978484707604 |\n",
            "|[Organic D'Anjou Pears, Organic Hass Avocado]                    |[Bag of Organic Bananas]|0.5170454545454546|4.3824946411792345|0.0013870999702764292|\n",
            "|[Organic Navel Orange, Organic Raspberries]                      |[Bag of Organic Bananas]|0.5412186379928315|4.587387356098284 |0.0011508356896249496|\n",
            "|[Organic Whole String Cheese, Organic Hass Avocado]              |[Bag of Organic Bananas]|0.5314685314685315|4.504745125675359 |0.0011584571180330617|\n",
            "+-----------------------------------------------------------------+------------------------+------------------+------------------+---------------------+\n",
            "\n",
            "+--------+--------------------+--------------------+\n",
            "|order_id|               names|          prediction|\n",
            "+--------+--------------------+--------------------+\n",
            "|  875597|[Organic Snipped ...|[Bag of Organic B...|\n",
            "| 1304189|[Banana, Sparklin...|[Bag of Organic B...|\n",
            "| 2063387|[Bunny Pasta with...|[Bag of Organic B...|\n",
            "| 2268994|[Sweet Red Grape ...|[Bag of Organic B...|\n",
            "| 2271881|[Organic Extra La...|[Bag of Organic B...|\n",
            "| 2275705|[Broccoli Crown, ...|            [Banana]|\n",
            "| 3052402|[Natural Premium ...|[Bag of Organic B...|\n",
            "| 3041639|[Organic Hass Avo...|[Bag of Organic B...|\n",
            "| 3334980|[Unsweetened Pome...|[Bag of Organic B...|\n",
            "| 3420498|[Asparagus, Carro...|            [Banana]|\n",
            "|    1143|[Natural Premium ...|[Bag of Organic B...|\n",
            "|  299700|[Vanilla Almond B...|[Bag of Organic B...|\n",
            "| 1369980|[Organic Navel Or...|[Bag of Organic B...|\n",
            "| 2412638|[Banana, Organic ...|[Bag of Organic B...|\n",
            "|  145753|[Organic Large Ex...|[Bag of Organic B...|\n",
            "|  901029|[Banana, Organic ...|[Bag of Organic B...|\n",
            "| 1189892|[Organic Whole Mi...|[Bag of Organic B...|\n",
            "| 1474895|[Organic Hass Avo...|[Bag of Organic B...|\n",
            "| 2748185|[Super Natural Or...|[Bag of Organic B...|\n",
            "|  236793|[Enlightened Orga...|[Bag of Organic B...|\n",
            "+--------+--------------------+--------------------+\n",
            "only showing top 20 rows\n",
            "\n"
          ],
          "name": "stdout"
        }
      ]
    }
  ]
}